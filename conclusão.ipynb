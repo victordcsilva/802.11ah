{
 "cells": [
  {
   "cell_type": "markdown",
   "metadata": {},
   "source": [
    "# Conclusão\n",
    "\n",
    "Definiu-se no Capítulo 1 os objetivos específicos deste TCC, repetidos abaixo por conveniência e com a correspondente discussão:\n",
    "\n",
    "\n",
    "\n",
    "- Qual diferença do 802.11ah para outros sistemas da IoT? Como ele pode ser uma alternativa do caso mMTC do 5G?\n",
    "    - Assunto apresentado principalmente no Capítulo 1. O 802.11ah busca juntar o melhor do WPAN e LPWAN, tendo longo alcance e alta taxa de transmissão, e com eficiência energética. Teve o MAC alterado para suportar uma rede densa de dispositivos, o que o torna uma alternativa para o caso de uso mMTC do 5G. \n",
    "\n",
    "- Quais as características do 802.11ah? Por que ele difere de outros sistemas da família IEEE?\n",
    "    - Assunto apresentado principalmente no Capítulo 2. O 802.11ah opera em frequência abaixo de 1GHz, ganhando em alcance de outros sistemas da família Wi-Fi. Teve a camada MAC remodelada para suportar uma grande quantidade de estações conectadas, oferecendo uma autenticação mais rápida, divisão das estações em grupos e slots para diminuir as colisões, melhoramento da troca de informações entre o AP e as estações, fazendo a estação ficar menos tempo acordada.\n",
    "\n",
    "- Quais as novidades do simulador 802.11ah em ns-3? O que é a ferramenta Ah Visualizer e como pode ser útil nas simulações? \n",
    "\n",
    "    - Assunto apresentado principalmente no Capítulo 3. Módulo ainda em fase alfa, mas já conta com diversas funcionalidades implementadas do 802.11ah. E contando o Ah Visualizer para melhorar as análises feitas, tornando as simulações mais interativas e fácil de compreender.\n",
    "\n",
    "- O módulo atende as características do 802.11ah? Para um iniciante em ns-3, o módulo é de fácil aprendizado? \n",
    "\n",
    "    - Assunto apresentado principalmente no Capítulo 4. Em outros trabalhos feitos, é mostrado que o simulador atende as funcionalidades do 802.11ah, mas foi mostrado que não é fácil a utilização, dificultando a compreensão para alguém iniciando no simulador ns-3.\n"
   ]
  }
 ],
 "metadata": {
  "kernelspec": {
   "display_name": "Python 3",
   "language": "python",
   "name": "python3"
  },
  "language_info": {
   "codemirror_mode": {
    "name": "ipython",
    "version": 3
   },
   "file_extension": ".py",
   "mimetype": "text/x-python",
   "name": "python",
   "nbconvert_exporter": "python",
   "pygments_lexer": "ipython3",
   "version": "3.6.10"
  }
 },
 "nbformat": 4,
 "nbformat_minor": 4
}
