{
 "cells": [
  {
   "cell_type": "markdown",
   "metadata": {},
   "source": [
    "# Referências\n",
    "\n",
    "- Adame, T.; Bel, A.; Bellalta, B.; Barcelo, J.; Oliver, M. Ieee 802.11ah:  the wifi approach form2m communications. **IEEE Wireless Communications**, v. 21, n. 6, p. 144–152, December 2014\n",
    "- Bankov, D.; Khorov, E.; Lyakhov, A.; Stepanova, E.; Tian, L.; Famaey, J. **What is the fastest way to connect stations to a wi-fi halow network?** Sensors, v. 18, 08 2018.\n",
    "- Beltramelli, L.; Österberg, P.; Jennehag, U.; Gidlund, M. **Hybrid mac mechanism for energy efficient  communication  in  ieee  802.11ah**.  In:2017  IEEE  International  Conference  on Industrial Technology (ICIT). 2017. p. 1295–1300.\n",
    "- Eriberto  S.  Silva;   Victor  C.  Silva;   Vicente  A.  de  Sousa  Jr.;   Daniel  Flor. **Uso  do  ns-3   como   Ferramenta   de   Prototipagem   de   Sistemas   802.11ah**.   2018.   Disponível   em: <https://periodicos.ufersa.edu.br/index.php/ecop/article/view/8869>. Acesso em:  30 de abril de 2019.\n",
    "- Ericsson,   A. **Cellular   networks   for   massive   IoT—enabling   low   power   wide   area applications**. 2016. Https://www.ericsson.com/en/white-papers/cellular-networks-for-massive-iot–enabling-low-power-wide-area-applications.\n",
    "- Hazmi, A.; Rinne, J.; Valkama, M. **Feasibility study of IEEE 802.11ah radio technology for IoT and M2M use cases**. In:2012 IEEE Globecom Workshops. 2012.\n",
    "- ITU. ITU-R  Rec.  M.2083-0:  IMT  Vision  —  **Framework  and  Overall  Objectives  of  the Future Development of IMT for 2020 and Beyond**. 9 2015\n",
    "- Khorov, E.; Lyakhov, A.; Krotov, A.; Guschin, A. **A survey on IEEE 802.11 ah: An Enabling Networking Technology for Smart Cities.Computer Communications**, v. 58, 2015.\n",
    "- Kim, T.;  Chang, J. M. **Enhanced power saving mechanism for large-scale 802.11ah wireless sensor networks**.IEEE Transactions on Green Communications and Networking, v. 1, n. 4,p. 516–527, Dec 2017.\n",
    "- Kraemer, B.; Stephens, A. **Project Authorization Request (PAR) of Task Group 802.11ah**.IEEE, 2010.http://www.ieee802.org/11/PARs/P802.11ah.pdf.\n",
    "- Le  Tian. **Módulo  IEEE  802.11ah  para  ns-3**.  2016.  Https://github.com/imec-idlab/IEEE-802.11ah-ns-3.\n",
    "- Lei, X.; Rhee, S. H. **Performance improvement of sub 1 ghz wlans for future iot environments**. Wireless Personal Communications,  v. 93,  n. 4,  p. 933–947,  Apr 2017. ISSN 1572-834X.Disponível em:<https://doi.org/10.1007/s11277-017-3947-3>.\n",
    "- Liao,  R.;  Bellalta,  B.;  Oliver,  M.;  Niu,  Z. **A  Survey.  IEEE  Communications  Surveys  & Tutorials**. 2016.\n",
    "- Park, C. W.; Hwang, D.; Lee, T. **Enhancement of ieee 802.11ah mac for m2m communications**. IEEE Communications Letters, v. 18, n. 7, p. 1151–1154, July 2014.\n",
    "- Park, M. **IEEE 802.11ah:  Sub-1-GHz license-exempt operation for the internet of things**. Communications Magazine, IEEE, v. 53, p. 145–151, 09 2015.\n",
    "- Raghunath,   A. **Understanding   Nokia’s   Continuing   Focus   on   5G**.   2016.   Disponívelem:<https://articles2.marketrealist.com/2016/09/nokia-continues-focus-5g-segment-well/>.Acesso em: 30 de abril de 2019.\n",
    "- Sljivo, A. **ahVisualizer GitHub**. GitHub, 2018. Https://github.com/imec-idlab/ahVisualizer.\n",
    "- Sljivo, A.; Poorter, E. D.; Hoebeke, J.; Kerkhove, D.; Moerman, I. **Interactive Web Visualizerfor IEEE 802.11ah ns-3 Module**. In:WNS3 ’18 Proceedings of the 10th Workshop on ns-3.2018.\n",
    "- Soares, S. M. **Modelagem analítica da vazão de redes sem fio baseadas na norma ieee 802.11ah**.In: . 2018.\n",
    "- Tian, L.; Deronne, S.; Latré, S.; Famaey, J. **Implementation and validation of an IEEE 802.11ah module for NS-3**. In: . 2016.\n",
    "- Tian,  L.;  Famaey,  J.;  Latré,  S.  **Evaluation  of  the  ieee  802.11ah  restricted  access  window mechanism  for  dense  iot  networks**.  In:2016  IEEE  17th  International  Symposium  on  AWorld of Wireless, Mobile and Multimedia Networks. 2016.\n",
    "- Tian, L.; Sljivo, A.; Santi, S.; Poorter, E. D.; Hoebeke, J.; Famaey, J. **Extension of the IEEE802.11ah ns-3 Simulation Module**. In:WNS3 ’18 Proceedings of the 10th Workshop on ns-3.2018"
   ]
  }
 ],
 "metadata": {
  "kernelspec": {
   "display_name": "Python 3",
   "language": "python",
   "name": "python3"
  },
  "language_info": {
   "codemirror_mode": {
    "name": "ipython",
    "version": 3
   },
   "file_extension": ".py",
   "mimetype": "text/x-python",
   "name": "python",
   "nbconvert_exporter": "python",
   "pygments_lexer": "ipython3",
   "version": "3.6.10"
  }
 },
 "nbformat": 4,
 "nbformat_minor": 4
}
