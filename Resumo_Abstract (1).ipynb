{
 "cells": [
  {
   "cell_type": "markdown",
   "metadata": {},
   "source": [
    "### Resumo\n",
    "\n",
    "Com a demanda por dispositivos usandos na Internet das Coisas (IoT) é importante ter uma rede que suporte a conexão de bilhões de dispositivos. O IEEE lançou o sistema 802.11ah para atender os requisitos do IoT, atendendo também o caso de uso _massive Machine Type Communication_ (mMTC) do sistema 5G. Os focos são o gerenciamento de bilhões de dispositivos, a duração de bateria e uma extensa área de cobertura. Este trabalho tem como objetivo analisar o desempenho de determinados cenários de IoT no módulo de simulação do 802.11ah no ns-3. O ns-3 foi escolhido como ferramenta de prototipagem por ser de código aberto e utilizado mundialmente para prototipagem de sistemas modernos de comunicação. O módulo possui várias funcionalidades implementadas, foi mostrado o comportamento de alguns parâmetros e relatado algumas dificuldades ao utilizar o módulo.  "
   ]
  },
  {
   "cell_type": "markdown",
   "metadata": {},
   "source": [
    "### Abstract \n",
    "\n",
    "With the demand for IoT devices, it is important to have a network that supports the connection of billions of devices. IEEE has released the 802.11ah standard to achieve IoT requirements, also addressing the 5G standard massive Machine Type Commmunications (mMTC) use case. The focus is on the management of billions of devices, baterry life and an extensive coverage area. This paper aims to analyze the performance of certain IoT scenarios in the 802.11ah simulation module in ns-3. ns-3 was chosen as a prototype tool because it is open source and used worldwide for prototyping modern communication systems. The module has several features implemented, the behavior of some paramenters has been shown and some difficulties reported while using the module. \n"
   ]
  }
 ],
 "metadata": {
  "kernelspec": {
   "display_name": "Python 3",
   "language": "python",
   "name": "python3"
  },
  "language_info": {
   "codemirror_mode": {
    "name": "ipython",
    "version": 3
   },
   "file_extension": ".py",
   "mimetype": "text/x-python",
   "name": "python",
   "nbconvert_exporter": "python",
   "pygments_lexer": "ipython3",
   "version": "3.7.3"
  }
 },
 "nbformat": 4,
 "nbformat_minor": 2
}
