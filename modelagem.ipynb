{
 "cells": [
  {
   "cell_type": "markdown",
   "metadata": {},
   "source": [
    "# Modelagem do Sistema 802.11ah\n"
   ]
  },
  {
   "cell_type": "markdown",
   "metadata": {},
   "source": [
    "O ns-3 já vem com suporte para alguns sistemas IEEE Wi-Fi, entre eles o 802.11a/b/g/n/ac. Para suportar os requisitos do 802.11ah, (Tian, 2016) adaptou esses módulos, alterando alguns componentes das camadas PHY e MAC.\n",
    "\n",
    "Adicionalmente, o módulo do 802.11ah no ns-3 foi atualizado e expandido em 2018, mais uma vez  por (Tian, 2018) (pode ser baixado em [(Tian, 2016)](https://github.com/imec-idlab/IEEE-802.11ah-ns-3). Nessa atualização foram acrescentados mais funcionalidades que faltaram na primeira versão. No mesmo ano, também foi desenvolvido por (Amina, 2018) um visualizador interativo chamado de _ahVisualizer_ (download [(Amina, 2018)](https://github.com/imec-idlab/ahVisualizer)), que facilita o entendimento e visualização das simulações feitas com o módulo de (Tian, 2016)."
   ]
  },
  {
   "cell_type": "markdown",
   "metadata": {},
   "source": [
    "### Camada PHY\n",
    "\n",
    "Em (Tian, 2016), os esquemas de modulação e codificação do MCS0 até o MCS9 foram implementados, o MCS10 ainda não é suportado no simulador. O módulo suporta todas as bandas de canal do 802.11ah, 1, 2, 4, 8 e 16 MHz. Uma limitação da implementação é usar uma taxa de dados máxima de 7,8 Mbps. Também é possível calcular a taxa de erro de pacotes. \n",
    "\n",
    "O módulo implementa o modelo de perda de propagação para ambientes interno, o mesmo do 802.11n, de acordo com a Equação 2 (em dB), sendo $d$, $f$, $c$ e $d_{BP}$ a distância em metros entre o transmissor e o receptor, a frequência em MHz da portadora, a velocidade da luz e distância de _breakpoint_, respectivamente. Existem dois modelos para ambientes externo, desenvolvidos por (Hazmi, 2012), sendo um para quando a antena está localizada a 15 metros de altura do topo de um prédio, Equação 3 (em $dB$), e outro para quando a antena está no mesmo nível do topo do prédio (porém não indica a altura do prédio), Equação 4 (em $dB$) (Tian, 2016). Também é possível habilitar o caso do canal ideal, quando não tem perdas de propagação.   \n",
    "\n",
    "$L(d)=\\left\\{\\begin{matrix}\n",
    "20\\log_{10}(\\frac{4df\\pi}{c}) & d\\leq d_{BP} & \\\\ \n",
    "20\\log_{10}(\\frac{4df\\pi}{c})+35\\log_{10}(\\frac{d}{d_{BP}}) & d> d_{BP} & \n",
    "\\end{matrix}\\right. [dB] $ (Equação 1)\n",
    "\n",
    "$L(d)=8+37,6\\log_{10}(d)+21\\log_{10}\\left(\\frac{f}{900MHz}\\right)[dB] $ (Equação 2)\n",
    "\n",
    "$L(d)=23,3+37,6\\log_{10}(d)+21\\log_{10}\\left(\\frac{f}{900MHz}\\right)[dB] $ (Equação 3)\n",
    "\n",
    "### Camada MAC\n",
    "\n",
    "A primeira versão do módulo suportava apenas o mecanismo RAW e associação rápida, sendo possível alterar parâmetros como número de grupos RAW e número de STAs por RAW. O mecanismo de ajuste do _threshold_ também foi implementado, assim como os dois estágios de _backoffs_ definido pelo 802.11ah (Tian, 2016).\n",
    "\n",
    "A partir da extensão de 2018 foram incluídos o modelo de hierarquia das STAs e um modelo de consumo de energia. Na primeira versão todas as STAs ficavam sempre acordadas, agora elas podem alterar entre quatro modos espera, recebendo, transmitindo ou dormindo. A configuração do RAW foi alterada para o que chamaram de interface de configuração dinâmica (Tian, 2018). E assim como o MCS10, o TWT ainda não foi implementado, mas os desenvolvedores planejam acrescenta-lós futuramente (Tian, 2018). \n",
    "\n",
    "Uma visão do que foi modificado no ns-3 pode ser vista na Figura 10. Os blocos representam classes ou funções, os em cinza são os que foram modificados ou adicionados para suportar o 802.11ah.\n",
    "\n",
    "**Figura 10: Blocos e classes do ns-3 tradicional, os blocos em cinza foram adicionados ou modificados para os requisitos do 802.11ah.**\n",
    "![blocos_ns3](https://i.ibb.co/9vLXw2M/image.png)\n",
    "**Fonte: (Tian, 2016a) e (Tian, 2018)**\n",
    "\n",
    "### Web Visualizer para o 802.11ah ns-3\n",
    "\n",
    "Em (Amina, 2018a), foi desenvolvido o _ahVisualizer_, uma ferramenta de fácil utilização para auxiliar as simulações usando o módulo ns-3 do 802.11ah. O trabalho relata outros visualizadores para ns-3, mostrando as vantagens e, principalmente, as desvantagens, dessa forma, argumentando o motivo do desenvolvimento desse novo visualizador. \n",
    "\n",
    "O _Web Visualizer_ para o 802.11ah do ns-3 mostra de forma animada a segmentação TIM, os _slots_ RAW, alguns parâmetros de cada STA e do sistema como um todo. Além disso, é possível obter gráficos de determinados parâmetros, sendo este um dos objetivos do visualizador, tornar simples a análise de dados de uma rede densa, caso do 802.11ah (Amina, 2018).\n",
    "\n",
    "O _ahVisualizer_ consiste de três componentes: o próprio ns-3, o _NodeJS Web Server_ e o _website_. No ns-3 foi incluído classes, como visto na Figura 10, de forma a obter e enviar os dados para o visualizador. A classe _NodeEntry_ foi modificada para coletar os dados, e a _NodeStatistics_ foi adicionada para conter informações de cada STA e da rede como um todo. O método _SimulationEventManager_ gerencia os eventos de simulação, e a partir dele também é feita uma conexão para o servidor _NodeJS_ (Amina, 2018).\n",
    "\n",
    "O servidor _web NodeJS_ funciona como uma hospedagem dos dados simulados em ns-3 e um encaminhador para o _web-browser_. Um cliente _web_ recebe os dados simulados na porta 8080 e consegue visualizar. Até o momento este visualizador só funciona para o módulo 802.11ah ns-3, mas o projeto é estender para outros sistemas (Amina, 2018).\n",
    "\n",
    "A tela do visualizador pode ser vista na Figura 11, ilustrando a funcionalidade de cores para representar qualidade dos parâmetros, sendo verde o melhor e vermelho o pior. O _ah Visualizer_ consiste dos seguintes componentes: \n",
    "- **Mapa:** mostra a localização das STAs que estão em um determinado raio do AP (localizado no centro do mapa);\n",
    "- **Tabela de configuração:** mostra os valores das variáveis que não mudaram de valor durante a simulação; \n",
    "- **Estatísticas dos nós:** mostra as medições de todas as STAs ou de cada STA;\n",
    "- **Gráfico:** mostra tabelas de determinados parâmetros, sendo possível escolher algum; \n",
    "- **slots/Grupos RAW:** mostra a quantidade de grupos e slots RAW. Possuí duas cores, em azul e laranja, em que mostra mostra a porcentagem de uso em _uplink_ e _downlink_ daquele slot/grupo, respectivamente; \n",
    "- **Gráfico em pizza:** mostra a porcentagem do tempo que determinada STA ficou ativa ou em repouso, e também a porcentagem de sucesso e falha nas transmissões;\n",
    "- **Menu de download:** permite o _download_ do gráfico gerado em diversos formatos de arquivos, como .png, .cvs ou .pdf.\n",
    "\n",
    "**Figura 11: Tela do ahVisualizer, o web visualizador interativo para simulações do 802.11ah ns-3.**\n",
    "![ah_visu](https://i.ibb.co/xJsynV9/image.png)\n",
    "**Fonte: Autoria própria**\n"
   ]
  }
 ],
 "metadata": {
  "kernelspec": {
   "display_name": "Python 3",
   "language": "python",
   "name": "python3"
  },
  "language_info": {
   "codemirror_mode": {
    "name": "ipython",
    "version": 3
   },
   "file_extension": ".py",
   "mimetype": "text/x-python",
   "name": "python",
   "nbconvert_exporter": "python",
   "pygments_lexer": "ipython3",
   "version": "3.6.10"
  }
 },
 "nbformat": 4,
 "nbformat_minor": 2
}
