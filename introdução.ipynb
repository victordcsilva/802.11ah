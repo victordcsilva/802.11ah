{
 "cells": [
  {
   "cell_type": "markdown",
   "metadata": {},
   "source": [
    "### 1. Introdução\n",
    "\n",
    "#### 1.1 Contextualização\n",
    "\n",
    "Nos últimos anos tem havido um crescente interesse na chamada Internet das Coisas, que consiste de milhares de dispositivos ligados à _Internet_. Esses dispositivos podem receber dados do ambiente no qual estão, podendo tomar alguma decisão ou compartilhar essas informações para serem usadas futuramente. A expectativa é que a IoT (do inglês _Internet of Things)_ venha para modificar o estilo de vida atual. Segundo Khorov-2015, automação industrial, casa inteligente, agricultura e hospitais serão algumas das principais aplicações da IoT e M2M (do inglês, _Machine to Machine)_. Alguns estudos mostram esse crescimento na área de IoT, um deles, o Ericsson-2016, prevê que até o ano de 2021, o número de dispositivos IoT será maior que o de celulares, _tablets_ e computadores juntos.    \n",
    "\n",
    "Devido a este aumento, faz necessário uma rede que acomode todos esses dispositivos. Por se tratar, normalmente, de pequenos sensores, a melhor opção de conectá-los à _Internet_ é por meio de redes sem fio. Porém, os atuais sistemas são voltados para altas taxas de transmissão de dados, poucos dispositivos conectados e sem tanta preocupação com gasto energético. E isso vai de encontro às necessidades da IoT: (i)  busca de uma rede que suporte milhares de dispositivos conectados; (ii) muitas vezes sem necessidade de alta taxa de transmissão, pois o alvo é a transmissão de dados curtos; (iii) e que economize energia para aumentar a duração de bateria dos dispositivos. Diante disso, o IEEE criou, em 2010, um grupo de tarefas (TGah) para desenvolver um novo sistema que atenda os requisitos da IoT. Ele foi chamado de IEEE 802.11ah, mas é comercialmente conhecido como Halow, nome escolhido pela Wi-Fi Alliance. \n",
    "\n",
    "Outro sistema que busca atender as necessidades da IoT é a quinta geração de redes móveis (5G), que propõe algumas soluções para determinados casos de uso, sendo classificados como _enhanced Mobile BroadBand_ (eMBB), _Ultra-Reliable Low-Latency_ (URLLC) e _massive Machine-Type Communication_ (mMTC), como ilustrado na Figura 1. O eMBB busca suportar uma taxa de dados muito elevada, chegando a 20 Gbps no ponto de acesso (AP) e 100 Mbps (Megabits por segundo) por usuário. O URLLC atende serviços que demandam alta confiabilidade de recepção de dados (99,99% de sucesso em entregas pacotes) e baixa latência (<1 ms). Já o mMTC faz com que o AP se conecte a milhares de estações (STAs), suportando uma alta densidade de dispositivos conectados e uma  cobertura extensa (em torno de 15km). Isso deve ser aliado a um baixo consumo de energia, objetivando longa duração da bateria, com alvo de duração de até 15 anos (itu-2015). No 5G, o caso de uso mMTC é o que mais está alinhado com as necessidades da tecnologia IoT.\n",
    "\n",
    "![Figura1](https://i.ibb.co/dknCtgq/image.png)\n",
    "\n",
    "O 802.11ah não é o único sistema que busca atender os requisitos da IoT, os demais sistemas são classificados em dois grupos: ___Wireless Personal Area Network___ (WPAN) e ___Low-Power Wide-Area Network___ (LPWAN). O primeiro grupo tem características de suportar altas taxas de transmissão, mas é limitado pelo alcance, por exemplo, _ZigBee_ e _Bluetooth_ estão neste grupo. E o segundo, que contém o _LoRa_ e _SigFox_, suporta um alcance maior, entretanto, a taxa de dados é limitada. Essa comparação, exposta da Figura 2, que juntamente com o 802.11ah, mostra a taxa de transmissão e o alcance desses sistemas utilizados na IoT.\n",
    "\n",
    "![Figura2](https://i.ibb.co/093MkG6/image.png)\n",
    "\n",
    "Em suma, advogando em prol do 802.11ah, é possível dizer que o IEEE desenvolveu um sistema que suporta a tecnologia IoT, mesclando o melhor do WPAN e do LPWAN, além de ser uma solução viável aos requisitos do caso de uso mMTC. Dessa forma, o sistema 802.11ah foi desenvolvido para suportar uma densa conectividade de dispositivos em uma única rede, suportando alta taxa de dados e tendo um alcance extenso, tudo isso com baixo consumo energético.  \n"
   ]
  },
  {
   "cell_type": "markdown",
   "metadata": {},
   "source": [
    "### 1.2 Metodologia de Prototipagem\n",
    "\n",
    "O uso de prototipagem via software se tornou usual no âmbito acadêmico e no setor produtivo, principalmente no que se refere à criação de tecnologia. Os motivos se devem a um menor custo, não sendo necessário desenvolver ou adquirir equipamentos para realizar testes. Outro fator importante é a flexibilidade de realizar simulações em diversos cenários apenas alterando as variáveis de entrada e modelos estatísticos, facilitando a realização de projetos e prototipagem de sistema, bem como testes em casos de estresse. Tais testes são inviáveis em uma rede real, devido ao custo de ter uma rede só para testes ou a impossibilidade de parar uma rede em operação e destinar todos os seus usuários para usarem uma funcionalidade que a ainda está em concepção.\n",
    "\n",
    "Este trabalho utiliza como ferramenta de prototipagem do 802.11ah o ns-3 (_Network Simulator_, versão 3). Ele é gratuito e tem código aberto, sendo amplamente utilizado em pesquisas e meios educacionais, além de contar com uma comunidade ativa e disposta a buscar soluções e debater as dúvidas existentes. Ele já é utilizado para disponibilizar módulos de diversos sistemas como o 4G LTE, o Wi-Fi, o LoRaWAN, o 5G NR, entre outros. O módulo do Wi-Fi foi utilizado como base para o desenvolvimento do módulo do 802.11ah em ns-3, que atende muitos requisitos do 802.11ah (Tian-2016a). Neste trabalho, nenhuma funcionalidade adicional foi desenvolvida no módulo do 802.11ah do ns-3. "
   ]
  },
  {
   "cell_type": "markdown",
   "metadata": {},
   "source": [
    "### 1.3 Trabalhos Relacionados\n",
    "\n",
    "Antes mesmo de ser lançado, o 802.11ah já vinha sendo estudado na academia. Em 2015 foi publicado o trabalho de (Khorov-2015). Por ser um _survey_, este trabalho detalha todas as funcionalidades e mudanças do sistema com relação aos demais sistemas da família IEEE. O trabalho de (Park-2014) propôs um novo MAC para melhorar a eficiência de acesso ao meio no _uplink_.\n",
    "Em (Park-2015), foi feito uma visão geral do 802.11ah. (Eriberto-2018), um trabalho publicado no congresso ECOP, do qual fui coautor, mostra as novas funcionalidades do sistema 802.11ah, apresentando o módulo e mostrando como configurar para interagir com a ferramenta ahVisualizer. O ahVisualizer será apresentado no capítulo 3 e fará parte do caso de estudo do Capítulo 4.\n",
    "\n",
    "Os trabalhos citados acima descrevem o 802.11ah de uma forma geral, mas também existem trabalhos que buscaram simular desempenho de características do sistema. (Adame-2014) testa, em MATLAB, quatro cenários usando o sistema 802.11ah. (Kim-2017) propõem um método de economia de energia, também usando o MATLAB como ferramenta de prototipagem. O trabalho de (Beltramelli-2017) foi desenvolvido de forma analítica, e mostra como usar os recursos MAC do 802.11ah para realizar um mecanismo híbrido de reserva de contenção para a transmissão de dados no _uplink_.\n",
    "\n",
    "A partir do momento que o módulo do 802.11ah foi desenvolvido no simulador ns-3, ficou mais acessível ao público geral testar suas funcionalidades. Por ser o autor do simulador, Le Tian possui vários trabalhos usando o ns-3 para analisar o sistema 802.11ah. O principal é o (Tian-2016a), no qual ele apresenta o sistema, mostrando o que foi implementado em ns-3 e simulando alguns cenários para validar o simulador. O trabalho de (Bankov-2018) desenvolve um código para rodar o controle de acesso centralizado (CAC) e compara com o controle de acesso distribuído (DAC), que serão explicados no capítulo 3. Em (Amina, 2018), foi desenvolvido um visualizador _web_ que, juntamente com o simulador ns-3 do 802.11ah, busca facilitar o entendimento das simulações realizadas. "
   ]
  },
  {
   "cell_type": "markdown",
   "metadata": {},
   "source": [
    "### 1.4 Objetivos\n",
    "\n",
    "Este trabalho tem como objetivo apresentar uma visão geral do sistema 802.11ah, assim como descrever o módulo ns-3 voltado a sua implementação, analisando alguns cenários de forma a discutir a viabilidade do sistema para uso no contexto da IoT. \n",
    "\n",
    "Como objetivos específicos se destacam:\n",
    "\n",
    "- Mostrar como o sistema 802.11ah pode ser uma alternativa para a IoT;\n",
    "- Documentar as novidades e mudanças do sistema 802.11ah com relação a outros sistemas IEEE;\n",
    "- Documentar as mudanças do módulo do 802.11ahns-3 com relação a outros módulos IEEE; e\n",
    "- Validar e avaliar o desempenho do módulo para alguns cenários.\n",
    "\n",
    "E, para atender aos objetivos específicos, este trabalho se propõem a discutir as seguintes questões:\n",
    "\n",
    "- Qual diferença do 802.11ah para outros sistemas da IoT? Como ele pode ser uma alternativa do caso mMTC do 5G?\n",
    "- Quais as características do 802.11ah? Por que ele difere de outros sistemas da família IEEE?\n",
    "- Quais as novidades do simulador 802.11ah em ns-3? O que é a ferramenta Ah Visualizer e como pode ser útil no estudo de análise de desempenho? \n",
    "- O módulo atende as características do 802.11ah? Para um iniciante em ns-3, o módulo é de fácil aprendizado? \n"
   ]
  },
  {
   "cell_type": "markdown",
   "metadata": {},
   "source": [
    "### 1.5 Organização do trabalho\n",
    "\n",
    "Este trabalho está organizado como a seguir. O Capítulo 2 traz a fundamentação teórica com detalhes técnicos do 802.11ah. No Capítulo 3, a modelagem em ns-3 do 802.11ah é apresentada, mostrando o que foi e o que não foi desenvolvido no módulo. No final do Capítulo, também é apresentado o visualizador _web_ desenvolvido para auxiliar nas simulações. O Capítulo 4 é dedicado a um estudo de caso, expondo os cenários IoT modelados e analisados, os resultados e as discussões. Finalmente, o Capítulo 5 traz as conclusões envolvendo os resultados e o desenvolvimento geral do trabalho."
   ]
  },
  {
   "cell_type": "code",
   "execution_count": null,
   "metadata": {},
   "outputs": [],
   "source": []
  }
 ],
 "metadata": {
  "kernelspec": {
   "display_name": "Python 3",
   "language": "python",
   "name": "python3"
  },
  "language_info": {
   "codemirror_mode": {
    "name": "ipython",
    "version": 3
   },
   "file_extension": ".py",
   "mimetype": "text/x-python",
   "name": "python",
   "nbconvert_exporter": "python",
   "pygments_lexer": "ipython3",
   "version": "3.7.3"
  }
 },
 "nbformat": 4,
 "nbformat_minor": 2
}
